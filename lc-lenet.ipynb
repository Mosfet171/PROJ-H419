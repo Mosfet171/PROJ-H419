{
 "cells": [
  {
   "cell_type": "code",
   "execution_count": 1,
   "metadata": {
    "execution": {
     "iopub.execute_input": "2021-03-26T11:36:36.168671Z",
     "iopub.status.busy": "2021-03-26T11:36:36.167904Z",
     "iopub.status.idle": "2021-03-26T11:36:36.170921Z",
     "shell.execute_reply": "2021-03-26T11:36:36.170431Z"
    },
    "papermill": {
     "duration": 0.014021,
     "end_time": "2021-03-26T11:36:36.171095",
     "exception": false,
     "start_time": "2021-03-26T11:36:36.157074",
     "status": "completed"
    },
    "tags": []
   },
   "outputs": [],
   "source": [
    "#!pip install wandb --upgrade"
   ]
  },
  {
   "cell_type": "code",
   "execution_count": 2,
   "metadata": {
    "_cell_guid": "b1076dfc-b9ad-4769-8c92-a6c4dae69d19",
    "_uuid": "8f2839f25d086af736a60e9eeb907d3b93b6e0e5",
    "execution": {
     "iopub.execute_input": "2021-03-26T11:36:36.192499Z",
     "iopub.status.busy": "2021-03-26T11:36:36.191813Z",
     "iopub.status.idle": "2021-03-26T11:36:43.003011Z",
     "shell.execute_reply": "2021-03-26T11:36:43.002024Z"
    },
    "papermill": {
     "duration": 6.826048,
     "end_time": "2021-03-26T11:36:43.003163",
     "exception": false,
     "start_time": "2021-03-26T11:36:36.177115",
     "status": "completed"
    },
    "tags": []
   },
   "outputs": [],
   "source": [
    "import wandb\n",
    "import tensorflow as tf\n",
    "import numpy as np\n",
    "import matplotlib.pyplot as plt\n",
    "import pandas as pd\n",
    "import os\n",
    "import glob\n",
    "import datetime\n",
    "\n",
    "from wandb.keras import WandbCallback\n",
    "from tensorflow import keras\n",
    "from tensorflow.keras import layers\n",
    "from tensorflow.keras.preprocessing.image import ImageDataGenerator\n",
    "from keras.utils import Sequence\n",
    "from keras.layers import AveragePooling2D, Input, Conv2D\n",
    "from sklearn.model_selection import StratifiedKFold\n",
    "from skimage.io import imread,imshow\n",
    "from skimage.transform import resize\n",
    "from sklearn.utils import shuffle\n",
    "\n",
    "%matplotlib inline\n",
    "%reload_ext tensorboard\n",
    "\n",
    "#wandb.login()"
   ]
  },
  {
   "cell_type": "code",
   "execution_count": 3,
   "metadata": {
    "execution": {
     "iopub.execute_input": "2021-03-26T11:36:43.030805Z",
     "iopub.status.busy": "2021-03-26T11:36:43.029632Z",
     "iopub.status.idle": "2021-03-26T11:36:43.032096Z",
     "shell.execute_reply": "2021-03-26T11:36:43.032492Z"
    },
    "papermill": {
     "duration": 0.023152,
     "end_time": "2021-03-26T11:36:43.032617",
     "exception": false,
     "start_time": "2021-03-26T11:36:43.009465",
     "status": "completed"
    },
    "tags": []
   },
   "outputs": [],
   "source": [
    "class MergedGenerators(Sequence):\n",
    "\n",
    "    def __init__(self, batch_size, generators=[], sub_batch_size=[]):\n",
    "        self.generators = generators\n",
    "        self.sub_batch_size = sub_batch_size\n",
    "        self.batch_size = batch_size\n",
    "\n",
    "    def __len__(self):\n",
    "        return int(\n",
    "            sum([(len(self.generators[idx]) * self.sub_batch_size[idx])\n",
    "                 for idx in range(len(self.sub_batch_size))]) /\n",
    "            self.batch_size)\n",
    "\n",
    "    def __getitem__(self, index):\n",
    "        \"\"\"Getting items from the generators and packing them\"\"\"\n",
    "\n",
    "        X_batch = []\n",
    "        Y_batch = []\n",
    "        for generator in self.generators:\n",
    "            if generator.class_mode is None:\n",
    "                x1 = generator[index % len(generator)]\n",
    "                X_batch = [*X_batch, *x1]\n",
    "\n",
    "            else:\n",
    "                x1, y1 = generator[index % len(generator)]\n",
    "                X_batch = [*X_batch, *x1]\n",
    "                Y_batch = [*Y_batch, *y1]\n",
    "\n",
    "        if self.generators[0].class_mode is None:\n",
    "            return np.array(X_batch)\n",
    "        return np.array(X_batch), np.array(Y_batch)\n",
    "\n",
    "\n",
    "def build_datagenerator(dir1=None, dir2=None, dir3=None, batch_size=32):\n",
    "    n_images_in_dir1 = sum([len(files) for r, d, files in os.walk(dir1)])\n",
    "    n_images_in_dir2 = sum([len(files) for r, d, files in os.walk(dir2)])\n",
    "    n_images_in_dir3 = sum([len(files) for r, d, files in os.walk(dir3)])\n",
    "\n",
    "    # Have to set different batch size for two generators as number of images\n",
    "    # in those two directories are not same. As we have to equalize the image\n",
    "    # share in the generators\n",
    "    generator1_batch_size = int((n_images_in_dir1 * batch_size) /\n",
    "                                (n_images_in_dir1 + n_images_in_dir2 + n_images_in_dir3))\n",
    "    \n",
    "    generator2_batch_size = int((n_images_in_dir2 * batch_size) /\n",
    "                                (n_images_in_dir1 + n_images_in_dir2 + n_images_in_dir3))\n",
    "\n",
    "    generator3_batch_size = batch_size - generator1_batch_size - generator2_batch_size\n",
    "\n",
    "    generator = ImageDataGenerator(rescale=1. / 255)\n",
    "\n",
    "    generator1 = generator.flow_from_directory(\n",
    "        dir1,\n",
    "        target_size=(600, 600),\n",
    "        color_mode='rgb',\n",
    "        class_mode='binary',\n",
    "        batch_size=generator1_batch_size,\n",
    "        shuffle=True,\n",
    "        seed=171)\n",
    "\n",
    "    generator2 = generator.flow_from_directory(\n",
    "        dir2,\n",
    "        target_size=(600, 600),\n",
    "        color_mode='rgb',\n",
    "        class_mode='binary',\n",
    "        batch_size=generator2_batch_size,\n",
    "        shuffle=True,\n",
    "        seed=171)\n",
    "    \n",
    "    generator3 = generator.flow_from_directory(\n",
    "        dir3,\n",
    "        target_size=(600, 600),\n",
    "        color_mode='rgb',\n",
    "        class_mode='binary',\n",
    "        batch_size=generator3_batch_size,\n",
    "        shuffle=True,\n",
    "        seed=171)\n",
    "\n",
    "    return MergedGenerators(\n",
    "        batch_size,\n",
    "        generators=[generator1, generator2, generator3],\n",
    "        sub_batch_size=[generator1_batch_size, generator2_batch_size, generator2_batch_size])\n",
    "\n"
   ]
  },
  {
   "cell_type": "code",
   "execution_count": 4,
   "metadata": {
    "execution": {
     "iopub.execute_input": "2021-03-26T11:36:43.051487Z",
     "iopub.status.busy": "2021-03-26T11:36:43.050833Z",
     "iopub.status.idle": "2021-03-26T11:36:43.053354Z",
     "shell.execute_reply": "2021-03-26T11:36:43.053723Z"
    },
    "papermill": {
     "duration": 0.01555,
     "end_time": "2021-03-26T11:36:43.053849",
     "exception": false,
     "start_time": "2021-03-26T11:36:43.038299",
     "status": "completed"
    },
    "tags": []
   },
   "outputs": [],
   "source": [
    "from keras.models import Model\n",
    "from keras.layers import *\n",
    "from keras.utils import plot_model\n",
    "\n",
    "def MyModel():\n",
    "    model = keras.Sequential()\n",
    "\n",
    "    model.add(AveragePooling2D(input_shape=(600,600,3),\n",
    "                               pool_size=(2, 2)))\n",
    "    \n",
    "    model.add(Conv2D(filters=wandb.config.first_conv_filters, \n",
    "                     kernel_size=(wandb.config.kernel_size, wandb.config.kernel_size), \n",
    "                     activation='relu'))\n",
    "    \n",
    "    model.add(AveragePooling2D())\n",
    "\n",
    "    model.add(Conv2D(filters=wandb.config.second_conv_filters, \n",
    "                     kernel_size=(wandb.config.kernel_size, wandb.config.kernel_size),\n",
    "                     activation='relu'))\n",
    "    \n",
    "    model.add(AveragePooling2D())\n",
    "\n",
    "    model.add(Flatten())\n",
    "\n",
    "    model.add(Dense(units=120, activation='relu'))\n",
    "    \n",
    "    model.add(Dense(units=84, activation='relu'))\n",
    "\n",
    "    model.add(Dense(units=1, activation = 'sigmoid'))\n",
    "    \n",
    "    return model\n",
    "\n"
   ]
  },
  {
   "cell_type": "code",
   "execution_count": 5,
   "metadata": {
    "execution": {
     "iopub.execute_input": "2021-03-26T11:36:43.076961Z",
     "iopub.status.busy": "2021-03-26T11:36:43.075958Z",
     "iopub.status.idle": "2021-03-26T11:36:43.077919Z",
     "shell.execute_reply": "2021-03-26T11:36:43.078336Z"
    },
    "papermill": {
     "duration": 0.018721,
     "end_time": "2021-03-26T11:36:43.078463",
     "exception": false,
     "start_time": "2021-03-26T11:36:43.059742",
     "status": "completed"
    },
    "tags": []
   },
   "outputs": [],
   "source": [
    "def train():\n",
    "    # Specify the hyperparameter to be tuned along with\n",
    "    # an initial value\n",
    "    config_defaults = {\n",
    "        'batch_size': 8,\n",
    "        'learning_rate': 1,\n",
    "        'first_conv_filters': 1,\n",
    "        'second_conv_filters': 1,\n",
    "        'kernel_size': 3\n",
    "    }\n",
    "\n",
    "    # Initialize wandb with a sample project name\n",
    "    wandb.init(config=config_defaults)\n",
    "\n",
    "    # Specify the other hyperparameters to the configuration, if any\n",
    "    wandb.config.epochs = 20\n",
    "\n",
    "    # Prepare trainloader\n",
    "    train_ds = build_datagenerator(dir1='/kaggle/input/leukemia-classification/C-NMC_Leukemia/training_data/fold_0/',\n",
    "                                   dir2='/kaggle/input/leukemia-classification/C-NMC_Leukemia/training_data/fold_1/',\n",
    "                                   dir3='/kaggle/input/leukemia-classification/C-NMC_Leukemia/training_data/fold_2/',\n",
    "                                   batch_size=wandb.config.batch_size)\n",
    "    #trainloader = tf.data.Dataset.from_generator(train_ds)\n",
    "    #trainloader = train_ds.shuffle(1024).batch(wandb.config.batch_size).prefetch(tf.data.experimental.AUTOTUNE)\n",
    "    \n",
    "    \n",
    "    # prepare testloader \n",
    "    generator = ImageDataGenerator(rescale=1. / 255)\n",
    "    val_dir = '../input/leukemia-classification/C-NMC_Leukemia/validation_data/'\n",
    "    val_df = pd.read_csv(val_dir + 'C-NMC_test_prelim_phase_data_labels.csv',dtype=str)\n",
    "    val_df.loc[(val_df['labels'] == '0'), ['labels'] ] =  '2'\n",
    "    val_df.loc[(val_df['labels'] == '1'), ['labels'] ] =  '0'\n",
    "    val_df.loc[(val_df['labels'] == '2'), ['labels'] ] =  '1'\n",
    "    val_ds = generator.flow_from_dataframe(val_df,\n",
    "                                           directory=val_dir+'C-NMC_test_prelim_phase_data',\n",
    "                                           x_col=\"new_names\",\n",
    "                                           y_col=\"labels\",\n",
    "                                           class_mode=\"binary\",\n",
    "                                           target_size=(600,600),\n",
    "                                           validate_filenames=False,\n",
    "                                           batch_size=wandb.config.batch_size,\n",
    "                                           prefetch=tf.data.experimental.AUTOTUNE)\n",
    "    \n",
    "    #testloader = tf.data.Dataset.from_generator(val_ds)\n",
    "    #testloader = testloader.batch(wandb.config.batch_size).prefetch(tf.data.experimental.AUTOTUNE)\n",
    "\n",
    "    # Iniialize model with hyperparameters\n",
    "    keras.backend.clear_session()\n",
    "    model = MyModel()\n",
    "    \n",
    "    # Compile the model\n",
    "    # opt = tf.keras.optimizers.Adam(learning_rate=wandb.config.learning_rate) # optimizer with different learning rate specified by config\n",
    "    opt = tf.keras.optimizers.SGD(lr=wandb.config.learning_rate)\n",
    "    model.compile(opt, loss='binary_crossentropy', metrics=['acc'])\n",
    "    model.summary()\n",
    "    \n",
    "    # Train the model\n",
    "    _ = model.fit(train_ds,\n",
    "                  epochs=wandb.config.epochs, \n",
    "                  validation_data=val_ds,\n",
    "                  callbacks=[WandbCallback()]) # WandbCallback to automatically track metrics\n",
    "                            \n",
    "    # Evaluate    \n",
    "    loss, accuracy = model.evaluate(val_ds, callbacks=[WandbCallback()])\n",
    "    print('Test Error Rate: ', round((1-accuracy)*100, 2))\n",
    "    wandb.log({'Test Error Rate': round((1-accuracy)*100, 2)}) # wandb.log to track custom metrics"
   ]
  },
  {
   "cell_type": "code",
   "execution_count": 6,
   "metadata": {
    "execution": {
     "iopub.execute_input": "2021-03-26T11:36:43.095929Z",
     "iopub.status.busy": "2021-03-26T11:36:43.095287Z",
     "iopub.status.idle": "2021-03-26T11:36:43.097989Z",
     "shell.execute_reply": "2021-03-26T11:36:43.097585Z"
    },
    "papermill": {
     "duration": 0.013759,
     "end_time": "2021-03-26T11:36:43.098110",
     "exception": false,
     "start_time": "2021-03-26T11:36:43.084351",
     "status": "completed"
    },
    "tags": []
   },
   "outputs": [],
   "source": [
    "sweep_config = {\n",
    "  'method': 'bayes', \n",
    "  'metric': {\n",
    "      'name': 'val_loss',\n",
    "      'goal': 'minimize'\n",
    "  },\n",
    "  'early_terminate':{\n",
    "      'type': 'hyperband',\n",
    "      'min_iter': 5\n",
    "  },\n",
    "  'parameters': {\n",
    "      'batch_size': {\n",
    "          'values': [8, 16, 32, 64]\n",
    "      },\n",
    "      'learning_rate':{\n",
    "          'values': [1, 0.5, 0.1, 0.05, 0.01, 0.005, 0.001, 0.0005, 0.0001]\n",
    "      },\n",
    "      'first_conv_filters':{\n",
    "          'values': [1,3,6,9]\n",
    "      },\n",
    "      'second_conv_filters':{\n",
    "          'values': [1,3,6,9]\n",
    "      },\n",
    "      'kernel_size':{\n",
    "          'values': [3,5,15]\n",
    "      }\n",
    "  }\n",
    "}"
   ]
  },
  {
   "cell_type": "code",
   "execution_count": 7,
   "metadata": {
    "execution": {
     "iopub.execute_input": "2021-03-26T11:36:43.113961Z",
     "iopub.status.busy": "2021-03-26T11:36:43.113408Z",
     "iopub.status.idle": "2021-03-26T11:36:43.784167Z",
     "shell.execute_reply": "2021-03-26T11:36:43.783693Z"
    },
    "papermill": {
     "duration": 0.679773,
     "end_time": "2021-03-26T11:36:43.784289",
     "exception": false,
     "start_time": "2021-03-26T11:36:43.104516",
     "status": "completed"
    },
    "tags": []
   },
   "outputs": [
    {
     "name": "stderr",
     "output_type": "stream",
     "text": [
      "\u001b[34m\u001b[1mwandb\u001b[0m: You can find your API key in your browser here: https://wandb.ai/authorize\n"
     ]
    },
    {
     "ename": "StdinNotImplementedError",
     "evalue": "getpass was called, but this frontend does not support input requests.",
     "output_type": "error",
     "traceback": [
      "\u001b[0;31m---------------------------------------------------------------------------\u001b[0m",
      "\u001b[0;31mStdinNotImplementedError\u001b[0m                  Traceback (most recent call last)",
      "\u001b[0;32m<ipython-input-7-c744a9c6411b>\u001b[0m in \u001b[0;36m<module>\u001b[0;34m\u001b[0m\n\u001b[0;32m----> 1\u001b[0;31m \u001b[0msweep_id\u001b[0m \u001b[0;34m=\u001b[0m \u001b[0mwandb\u001b[0m\u001b[0;34m.\u001b[0m\u001b[0msweep\u001b[0m\u001b[0;34m(\u001b[0m\u001b[0msweep_config\u001b[0m\u001b[0;34m,\u001b[0m \u001b[0mproject\u001b[0m\u001b[0;34m=\u001b[0m\u001b[0;34m\"LC-LeNet\"\u001b[0m\u001b[0;34m)\u001b[0m\u001b[0;34m\u001b[0m\u001b[0;34m\u001b[0m\u001b[0m\n\u001b[0m\u001b[1;32m      2\u001b[0m \u001b[0;34m(\u001b[0m\u001b[0msweep_id\u001b[0m\u001b[0;34m)\u001b[0m\u001b[0;34m\u001b[0m\u001b[0;34m\u001b[0m\u001b[0m\n",
      "\u001b[0;32m/opt/conda/lib/python3.7/site-packages/wandb/wandb_controller.py\u001b[0m in \u001b[0;36msweep\u001b[0;34m(sweep, entity, project)\u001b[0m\n\u001b[1;32m    753\u001b[0m \u001b[0;34m\u001b[0m\u001b[0m\n\u001b[1;32m    754\u001b[0m     \u001b[0;31m# Make sure we are logged in\u001b[0m\u001b[0;34m\u001b[0m\u001b[0;34m\u001b[0m\u001b[0;34m\u001b[0m\u001b[0m\n\u001b[0;32m--> 755\u001b[0;31m     \u001b[0mwandb_sdk\u001b[0m\u001b[0;34m.\u001b[0m\u001b[0mwandb_login\u001b[0m\u001b[0;34m.\u001b[0m\u001b[0m_login\u001b[0m\u001b[0;34m(\u001b[0m\u001b[0m_silent\u001b[0m\u001b[0;34m=\u001b[0m\u001b[0;32mTrue\u001b[0m\u001b[0;34m)\u001b[0m\u001b[0;34m\u001b[0m\u001b[0;34m\u001b[0m\u001b[0m\n\u001b[0m\u001b[1;32m    756\u001b[0m     \u001b[0mapi\u001b[0m \u001b[0;34m=\u001b[0m \u001b[0mInternalApi\u001b[0m\u001b[0;34m(\u001b[0m\u001b[0;34m)\u001b[0m\u001b[0;34m\u001b[0m\u001b[0;34m\u001b[0m\u001b[0m\n\u001b[1;32m    757\u001b[0m     \u001b[0msweep_id\u001b[0m \u001b[0;34m=\u001b[0m \u001b[0mapi\u001b[0m\u001b[0;34m.\u001b[0m\u001b[0mupsert_sweep\u001b[0m\u001b[0;34m(\u001b[0m\u001b[0msweep\u001b[0m\u001b[0;34m)\u001b[0m\u001b[0;34m\u001b[0m\u001b[0;34m\u001b[0m\u001b[0m\n",
      "\u001b[0;32m/opt/conda/lib/python3.7/site-packages/wandb/sdk/wandb_login.py\u001b[0m in \u001b[0;36m_login\u001b[0;34m(anonymous, key, relogin, host, force, _backend, _silent, _disable_warning)\u001b[0m\n\u001b[1;32m    201\u001b[0m \u001b[0;34m\u001b[0m\u001b[0m\n\u001b[1;32m    202\u001b[0m     \u001b[0;32mif\u001b[0m \u001b[0;32mnot\u001b[0m \u001b[0mkey\u001b[0m\u001b[0;34m:\u001b[0m\u001b[0;34m\u001b[0m\u001b[0;34m\u001b[0m\u001b[0m\n\u001b[0;32m--> 203\u001b[0;31m         \u001b[0mwlogin\u001b[0m\u001b[0;34m.\u001b[0m\u001b[0mprompt_api_key\u001b[0m\u001b[0;34m(\u001b[0m\u001b[0;34m)\u001b[0m\u001b[0;34m\u001b[0m\u001b[0;34m\u001b[0m\u001b[0m\n\u001b[0m\u001b[1;32m    204\u001b[0m \u001b[0;34m\u001b[0m\u001b[0m\n\u001b[1;32m    205\u001b[0m     \u001b[0;31m# make sure login credentials get to the backend\u001b[0m\u001b[0;34m\u001b[0m\u001b[0;34m\u001b[0m\u001b[0;34m\u001b[0m\u001b[0m\n",
      "\u001b[0;32m/opt/conda/lib/python3.7/site-packages/wandb/sdk/wandb_login.py\u001b[0m in \u001b[0;36mprompt_api_key\u001b[0;34m(self)\u001b[0m\n\u001b[1;32m    140\u001b[0m             \u001b[0mapi\u001b[0m\u001b[0;34m=\u001b[0m\u001b[0mapi\u001b[0m\u001b[0;34m,\u001b[0m\u001b[0;34m\u001b[0m\u001b[0;34m\u001b[0m\u001b[0m\n\u001b[1;32m    141\u001b[0m             \u001b[0mno_offline\u001b[0m\u001b[0;34m=\u001b[0m\u001b[0mself\u001b[0m\u001b[0;34m.\u001b[0m\u001b[0m_settings\u001b[0m\u001b[0;34m.\u001b[0m\u001b[0mforce\u001b[0m\u001b[0;34m,\u001b[0m\u001b[0;34m\u001b[0m\u001b[0;34m\u001b[0m\u001b[0m\n\u001b[0;32m--> 142\u001b[0;31m             \u001b[0mno_create\u001b[0m\u001b[0;34m=\u001b[0m\u001b[0mself\u001b[0m\u001b[0;34m.\u001b[0m\u001b[0m_settings\u001b[0m\u001b[0;34m.\u001b[0m\u001b[0mforce\u001b[0m\u001b[0;34m,\u001b[0m\u001b[0;34m\u001b[0m\u001b[0;34m\u001b[0m\u001b[0m\n\u001b[0m\u001b[1;32m    143\u001b[0m         )\n\u001b[1;32m    144\u001b[0m         \u001b[0;32mif\u001b[0m \u001b[0mkey\u001b[0m \u001b[0;32mis\u001b[0m \u001b[0;32mFalse\u001b[0m\u001b[0;34m:\u001b[0m\u001b[0;34m\u001b[0m\u001b[0;34m\u001b[0m\u001b[0m\n",
      "\u001b[0;32m/opt/conda/lib/python3.7/site-packages/wandb/sdk/lib/apikey.py\u001b[0m in \u001b[0;36mprompt_api_key\u001b[0;34m(settings, api, input_callback, browser_callback, no_offline, no_create, local)\u001b[0m\n\u001b[1;32m    133\u001b[0m                 )\n\u001b[1;32m    134\u001b[0m             )\n\u001b[0;32m--> 135\u001b[0;31m             \u001b[0mkey\u001b[0m \u001b[0;34m=\u001b[0m \u001b[0minput_callback\u001b[0m\u001b[0;34m(\u001b[0m\u001b[0mapi_ask\u001b[0m\u001b[0;34m)\u001b[0m\u001b[0;34m.\u001b[0m\u001b[0mstrip\u001b[0m\u001b[0;34m(\u001b[0m\u001b[0;34m)\u001b[0m\u001b[0;34m\u001b[0m\u001b[0;34m\u001b[0m\u001b[0m\n\u001b[0m\u001b[1;32m    136\u001b[0m         \u001b[0mwrite_key\u001b[0m\u001b[0;34m(\u001b[0m\u001b[0msettings\u001b[0m\u001b[0;34m,\u001b[0m \u001b[0mkey\u001b[0m\u001b[0;34m,\u001b[0m \u001b[0mapi\u001b[0m\u001b[0;34m=\u001b[0m\u001b[0mapi\u001b[0m\u001b[0;34m)\u001b[0m\u001b[0;34m\u001b[0m\u001b[0;34m\u001b[0m\u001b[0m\n\u001b[1;32m    137\u001b[0m         \u001b[0;32mreturn\u001b[0m \u001b[0mkey\u001b[0m\u001b[0;34m\u001b[0m\u001b[0;34m\u001b[0m\u001b[0m\n",
      "\u001b[0;32m/opt/conda/lib/python3.7/site-packages/ipykernel/kernelbase.py\u001b[0m in \u001b[0;36mgetpass\u001b[0;34m(self, prompt, stream)\u001b[0m\n\u001b[1;32m    832\u001b[0m         \u001b[0;32mif\u001b[0m \u001b[0;32mnot\u001b[0m \u001b[0mself\u001b[0m\u001b[0;34m.\u001b[0m\u001b[0m_allow_stdin\u001b[0m\u001b[0;34m:\u001b[0m\u001b[0;34m\u001b[0m\u001b[0;34m\u001b[0m\u001b[0m\n\u001b[1;32m    833\u001b[0m             raise StdinNotImplementedError(\n\u001b[0;32m--> 834\u001b[0;31m                 \u001b[0;34m\"getpass was called, but this frontend does not support input requests.\"\u001b[0m\u001b[0;34m\u001b[0m\u001b[0;34m\u001b[0m\u001b[0m\n\u001b[0m\u001b[1;32m    835\u001b[0m             )\n\u001b[1;32m    836\u001b[0m         \u001b[0;32mif\u001b[0m \u001b[0mstream\u001b[0m \u001b[0;32mis\u001b[0m \u001b[0;32mnot\u001b[0m \u001b[0;32mNone\u001b[0m\u001b[0;34m:\u001b[0m\u001b[0;34m\u001b[0m\u001b[0;34m\u001b[0m\u001b[0m\n",
      "\u001b[0;31mStdinNotImplementedError\u001b[0m: getpass was called, but this frontend does not support input requests."
     ]
    }
   ],
   "source": [
    "sweep_id = wandb.sweep(sweep_config, project=\"LC-LeNet\")\n",
    "(sweep_id)"
   ]
  },
  {
   "cell_type": "code",
   "execution_count": 8,
   "metadata": {
    "execution": {
     "iopub.execute_input": "2021-03-26T11:36:43.821557Z",
     "iopub.status.busy": "2021-03-26T11:36:43.818942Z",
     "iopub.status.idle": "2021-03-26T11:36:43.824415Z",
     "shell.execute_reply": "2021-03-26T11:36:43.824792Z"
    },
    "papermill": {
     "duration": 0.032476,
     "end_time": "2021-03-26T11:36:43.824947",
     "exception": false,
     "start_time": "2021-03-26T11:36:43.792471",
     "status": "completed"
    },
    "tags": []
   },
   "outputs": [
    {
     "ename": "NameError",
     "evalue": "name 'sweep_id' is not defined",
     "output_type": "error",
     "traceback": [
      "\u001b[0;31m---------------------------------------------------------------------------\u001b[0m",
      "\u001b[0;31mNameError\u001b[0m                                 Traceback (most recent call last)",
      "\u001b[0;32m<ipython-input-8-9ce117af9ccc>\u001b[0m in \u001b[0;36m<module>\u001b[0;34m\u001b[0m\n\u001b[0;32m----> 1\u001b[0;31m \u001b[0mwandb\u001b[0m\u001b[0;34m.\u001b[0m\u001b[0magent\u001b[0m\u001b[0;34m(\u001b[0m\u001b[0msweep_id\u001b[0m\u001b[0;34m,\u001b[0m \u001b[0mfunction\u001b[0m\u001b[0;34m=\u001b[0m\u001b[0mtrain\u001b[0m\u001b[0;34m)\u001b[0m\u001b[0;34m\u001b[0m\u001b[0;34m\u001b[0m\u001b[0m\n\u001b[0m",
      "\u001b[0;31mNameError\u001b[0m: name 'sweep_id' is not defined"
     ]
    }
   ],
   "source": [
    "wandb.agent(sweep_id, function=train)"
   ]
  },
  {
   "cell_type": "code",
   "execution_count": null,
   "metadata": {
    "papermill": {
     "duration": 0.007286,
     "end_time": "2021-03-26T11:36:43.839635",
     "exception": false,
     "start_time": "2021-03-26T11:36:43.832349",
     "status": "completed"
    },
    "tags": []
   },
   "outputs": [],
   "source": []
  }
 ],
 "metadata": {
  "kernelspec": {
   "display_name": "Python 3",
   "language": "python",
   "name": "python3"
  },
  "language_info": {
   "codemirror_mode": {
    "name": "ipython",
    "version": 3
   },
   "file_extension": ".py",
   "mimetype": "text/x-python",
   "name": "python",
   "nbconvert_exporter": "python",
   "pygments_lexer": "ipython3",
   "version": "3.7.9"
  },
  "papermill": {
   "default_parameters": {},
   "duration": 13.772952,
   "end_time": "2021-03-26T11:36:44.956793",
   "environment_variables": {},
   "exception": null,
   "input_path": "__notebook__.ipynb",
   "output_path": "__notebook__.ipynb",
   "parameters": {},
   "start_time": "2021-03-26T11:36:31.183841",
   "version": "2.2.2"
  }
 },
 "nbformat": 4,
 "nbformat_minor": 4
}
